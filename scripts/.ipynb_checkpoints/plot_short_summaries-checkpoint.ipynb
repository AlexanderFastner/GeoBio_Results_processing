{
 "cells": [
  {
   "cell_type": "markdown",
   "id": "889c477e",
   "metadata": {},
   "source": [
    "1.5 bar plot for all cniderians, porifera ... script to plot this --todo\n",
    "\tstacked bar plot--todo\n",
    "\tinput is a list of all species to include --todo\n",
    "\tsummary for taxonomic groups --todo\n",
    "\tif --file_list not included include everything --todo\n",
    "\tmean completeness --todo\n",
    "\traindrop plots --todo"
   ]
  },
  {
   "cell_type": "code",
   "execution_count": null,
   "id": "476d444e",
   "metadata": {},
   "outputs": [],
   "source": [
    "import os\n",
    "import numpy as np\n",
    "import matplotlib.pyplot as plt\n",
    "import pandas as pd\n",
    "#import multiprocess"
   ]
  },
  {
   "cell_type": "code",
   "execution_count": null,
   "id": "dfb4cd38",
   "metadata": {},
   "outputs": [],
   "source": [
    "#have a way to input a list, to go gather all teh summary info for those things --done\n",
    "#plot all the things for everything in the output from previous file\n",
    "\n",
    "\n"
   ]
  },
  {
   "cell_type": "code",
   "execution_count": null,
   "id": "cad428fc",
   "metadata": {},
   "outputs": [],
   "source": [
    "\n",
    "\n",
    "\n"
   ]
  }
 ],
 "metadata": {
  "kernelspec": {
   "display_name": "results",
   "language": "python",
   "name": "results"
  },
  "language_info": {
   "codemirror_mode": {
    "name": "ipython",
    "version": 3
   },
   "file_extension": ".py",
   "mimetype": "text/x-python",
   "name": "python",
   "nbconvert_exporter": "python",
   "pygments_lexer": "ipython3",
   "version": "3.9.18"
  }
 },
 "nbformat": 4,
 "nbformat_minor": 5
}
